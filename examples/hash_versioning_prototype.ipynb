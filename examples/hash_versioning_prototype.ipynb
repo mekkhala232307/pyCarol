{
 "cells": [
  {
   "cell_type": "code",
   "execution_count": 1,
   "metadata": {},
   "outputs": [],
   "source": [
    "import dis\n",
    "def get_code_hash(func):\n",
    "    code_set = set() # memoization set\n",
    "    def _traverse_code(analyzed_function):\n",
    "        inner_functions_set = set()\n",
    "        instructions = list(dis.get_instructions(analyzed_function))\n",
    "        instructions = list(reversed(instructions))\n",
    "\n",
    "        for ix, inst in enumerate(instructions):\n",
    "            if 'CALL_FUNCTION' == inst.opname:\n",
    "                called_function_name = instructions[ix + inst.arg + 1]\n",
    "                function_name = called_function_name.argval\n",
    "                func = globals()[function_name]\n",
    "                if func not in code_set:\n",
    "                    code_set.add(func)\n",
    "                    inner_functions_set.add(func)\n",
    "        code_list = [_traverse_code(f) for f in inner_functions_set]\n",
    "        code_list.append(analyzed_function.__code__.co_code)\n",
    "        if len(code_list) == 1:\n",
    "            return code_list[0]\n",
    "        else:\n",
    "            return code_list\n",
    "    bytecode_list = _traverse_code(func)\n",
    "    if isinstance(bytecode_list,list):\n",
    "        return hash(b''.join(bytecode_list))\n",
    "    else:\n",
    "        return hash(bytecode_list)"
   ]
  },
  {
   "cell_type": "code",
   "execution_count": 2,
   "metadata": {},
   "outputs": [],
   "source": [
    "def a(x):\n",
    "    return x+b(x)\n",
    "def b(x):\n",
    "    return x+1\n",
    "def c(z):\n",
    "    return z+b(z)\n",
    "def d(x):\n",
    "    return x + d(x)"
   ]
  },
  {
   "cell_type": "code",
   "execution_count": 3,
   "metadata": {},
   "outputs": [
    {
     "data": {
      "text/plain": [
       "[3287583857289421461,\n",
       " -3548610114888071795,\n",
       " 3287583857289421461,\n",
       " -2918565914108623256]"
      ]
     },
     "execution_count": 3,
     "metadata": {},
     "output_type": "execute_result"
    }
   ],
   "source": [
    "test_set = [a,b,c,d]\n",
    "[get_code_hash(f) for f in test_set]"
   ]
  }
 ],
 "metadata": {
  "kernelspec": {
   "display_name": "Python 3",
   "language": "python",
   "name": "python3"
  },
  "language_info": {
   "codemirror_mode": {
    "name": "ipython",
    "version": 3
   },
   "file_extension": ".py",
   "mimetype": "text/x-python",
   "name": "python",
   "nbconvert_exporter": "python",
   "pygments_lexer": "ipython3",
   "version": "3.6.4"
  }
 },
 "nbformat": 4,
 "nbformat_minor": 2
}
